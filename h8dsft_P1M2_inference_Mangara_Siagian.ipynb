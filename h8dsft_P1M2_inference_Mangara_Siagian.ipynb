{
 "cells": [
  {
   "cell_type": "code",
   "execution_count": 1,
   "id": "36c087a9",
   "metadata": {},
   "outputs": [],
   "source": [
    "import pandas as pd\n",
    "import joblib"
   ]
  },
  {
   "cell_type": "markdown",
   "id": "05af1a84",
   "metadata": {},
   "source": [
    "# <font color='blue'> x. Model Inference </font>"
   ]
  },
  {
   "cell_type": "code",
   "execution_count": 2,
   "id": "f2b298a8",
   "metadata": {},
   "outputs": [],
   "source": [
    "# Proses penggunaan model\n",
    "with open('model_rfr.pkl', 'rb') as file_1:\n",
    "  model_rfr = joblib.load(file_1)"
   ]
  },
  {
   "cell_type": "markdown",
   "id": "80a7535a",
   "metadata": {},
   "source": [
    "### **UJI COBA DATA BARU**"
   ]
  },
  {
   "cell_type": "code",
   "execution_count": 3,
   "id": "a2d53e1e",
   "metadata": {},
   "outputs": [],
   "source": [
    "# Membuat data baru yang akan digunakan\n",
    "data_x_new = pd.DataFrame({\n",
    "    'Cement': [102, 198, 279, 332, 540],\n",
    "    'Age': [1, 7, 46, 60, 365],\n",
    "    'Superplasticizer': [0, 2, 6, 10, 32.2],\n",
    "    'Fly Ash': [0, 25, 55.5, 150, 200.1],\n",
    "    'Blast Furnace Slag': [0, 36, 72, 225, 359.4]\n",
    "     })"
   ]
  },
  {
   "cell_type": "code",
   "execution_count": 4,
   "id": "1edc1059",
   "metadata": {},
   "outputs": [
    {
     "name": "stdout",
     "output_type": "stream",
     "text": [
      "Strength : [59.315   58.48645 58.48645 58.48645 58.48645]\n"
     ]
    }
   ],
   "source": [
    "# Hasil uji coba menggunakan Pemodelan Random Forest Regression\n",
    "data_y_pred = model_rfr.predict(data_x_new)\n",
    "print('Strength :', data_y_pred)"
   ]
  }
 ],
 "metadata": {
  "kernelspec": {
   "display_name": "Python 3 (ipykernel)",
   "language": "python",
   "name": "python3"
  },
  "language_info": {
   "codemirror_mode": {
    "name": "ipython",
    "version": 3
   },
   "file_extension": ".py",
   "mimetype": "text/x-python",
   "name": "python",
   "nbconvert_exporter": "python",
   "pygments_lexer": "ipython3",
   "version": "3.10.9"
  }
 },
 "nbformat": 4,
 "nbformat_minor": 5
}
